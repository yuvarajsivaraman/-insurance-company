{
  "cells": [
    {
      "cell_type": "code",
      "execution_count": 152,
      "metadata": {
        "id": "K3Gd6cOJEjnZ"
      },
      "outputs": [],
      "source": [
        "import pandas as pd\n",
        "import numpy as np\n",
        "import seaborn as sns\n",
        "import matplotlib.pyplot as plt\n",
        "from sklearn.metrics import f1_score\n",
        "from sklearn.model_selection import cross_val_score"
      ]
    },
    {
      "cell_type": "code",
      "execution_count": 153,
      "metadata": {
        "colab": {
          "base_uri": "https://localhost:8080/",
          "height": 424
        },
        "id": "dYbR67ipEvDy",
        "outputId": "038e2cf0-2ccc-457e-a926-edbcf9525268"
      },
      "outputs": [
        {
          "output_type": "execute_result",
          "data": {
            "text/plain": [
              "       age           job   marital education_qual  call_type  day  mon   dur  \\\n",
              "0       58    management   married       tertiary    unknown    5  may   261   \n",
              "1       44    technician    single      secondary    unknown    5  may   151   \n",
              "2       33  entrepreneur   married      secondary    unknown    5  may    76   \n",
              "3       47   blue-collar   married        unknown    unknown    5  may    92   \n",
              "4       33       unknown    single        unknown    unknown    5  may   198   \n",
              "...    ...           ...       ...            ...        ...  ...  ...   ...   \n",
              "45206   51    technician   married       tertiary   cellular   17  nov   977   \n",
              "45207   71       retired  divorced        primary   cellular   17  nov   456   \n",
              "45208   72       retired   married      secondary   cellular   17  nov  1127   \n",
              "45209   57   blue-collar   married      secondary  telephone   17  nov   508   \n",
              "45210   37  entrepreneur   married      secondary   cellular   17  nov   361   \n",
              "\n",
              "       num_calls prev_outcome    y  \n",
              "0              1      unknown   no  \n",
              "1              1      unknown   no  \n",
              "2              1      unknown   no  \n",
              "3              1      unknown   no  \n",
              "4              1      unknown   no  \n",
              "...          ...          ...  ...  \n",
              "45206          3      unknown  yes  \n",
              "45207          2      unknown  yes  \n",
              "45208          5      success  yes  \n",
              "45209          4      unknown   no  \n",
              "45210          2        other   no  \n",
              "\n",
              "[45211 rows x 11 columns]"
            ],
            "text/html": [
              "\n",
              "  <div id=\"df-a1974d2f-5959-4260-879b-83ed532863e2\" class=\"colab-df-container\">\n",
              "    <div>\n",
              "<style scoped>\n",
              "    .dataframe tbody tr th:only-of-type {\n",
              "        vertical-align: middle;\n",
              "    }\n",
              "\n",
              "    .dataframe tbody tr th {\n",
              "        vertical-align: top;\n",
              "    }\n",
              "\n",
              "    .dataframe thead th {\n",
              "        text-align: right;\n",
              "    }\n",
              "</style>\n",
              "<table border=\"1\" class=\"dataframe\">\n",
              "  <thead>\n",
              "    <tr style=\"text-align: right;\">\n",
              "      <th></th>\n",
              "      <th>age</th>\n",
              "      <th>job</th>\n",
              "      <th>marital</th>\n",
              "      <th>education_qual</th>\n",
              "      <th>call_type</th>\n",
              "      <th>day</th>\n",
              "      <th>mon</th>\n",
              "      <th>dur</th>\n",
              "      <th>num_calls</th>\n",
              "      <th>prev_outcome</th>\n",
              "      <th>y</th>\n",
              "    </tr>\n",
              "  </thead>\n",
              "  <tbody>\n",
              "    <tr>\n",
              "      <th>0</th>\n",
              "      <td>58</td>\n",
              "      <td>management</td>\n",
              "      <td>married</td>\n",
              "      <td>tertiary</td>\n",
              "      <td>unknown</td>\n",
              "      <td>5</td>\n",
              "      <td>may</td>\n",
              "      <td>261</td>\n",
              "      <td>1</td>\n",
              "      <td>unknown</td>\n",
              "      <td>no</td>\n",
              "    </tr>\n",
              "    <tr>\n",
              "      <th>1</th>\n",
              "      <td>44</td>\n",
              "      <td>technician</td>\n",
              "      <td>single</td>\n",
              "      <td>secondary</td>\n",
              "      <td>unknown</td>\n",
              "      <td>5</td>\n",
              "      <td>may</td>\n",
              "      <td>151</td>\n",
              "      <td>1</td>\n",
              "      <td>unknown</td>\n",
              "      <td>no</td>\n",
              "    </tr>\n",
              "    <tr>\n",
              "      <th>2</th>\n",
              "      <td>33</td>\n",
              "      <td>entrepreneur</td>\n",
              "      <td>married</td>\n",
              "      <td>secondary</td>\n",
              "      <td>unknown</td>\n",
              "      <td>5</td>\n",
              "      <td>may</td>\n",
              "      <td>76</td>\n",
              "      <td>1</td>\n",
              "      <td>unknown</td>\n",
              "      <td>no</td>\n",
              "    </tr>\n",
              "    <tr>\n",
              "      <th>3</th>\n",
              "      <td>47</td>\n",
              "      <td>blue-collar</td>\n",
              "      <td>married</td>\n",
              "      <td>unknown</td>\n",
              "      <td>unknown</td>\n",
              "      <td>5</td>\n",
              "      <td>may</td>\n",
              "      <td>92</td>\n",
              "      <td>1</td>\n",
              "      <td>unknown</td>\n",
              "      <td>no</td>\n",
              "    </tr>\n",
              "    <tr>\n",
              "      <th>4</th>\n",
              "      <td>33</td>\n",
              "      <td>unknown</td>\n",
              "      <td>single</td>\n",
              "      <td>unknown</td>\n",
              "      <td>unknown</td>\n",
              "      <td>5</td>\n",
              "      <td>may</td>\n",
              "      <td>198</td>\n",
              "      <td>1</td>\n",
              "      <td>unknown</td>\n",
              "      <td>no</td>\n",
              "    </tr>\n",
              "    <tr>\n",
              "      <th>...</th>\n",
              "      <td>...</td>\n",
              "      <td>...</td>\n",
              "      <td>...</td>\n",
              "      <td>...</td>\n",
              "      <td>...</td>\n",
              "      <td>...</td>\n",
              "      <td>...</td>\n",
              "      <td>...</td>\n",
              "      <td>...</td>\n",
              "      <td>...</td>\n",
              "      <td>...</td>\n",
              "    </tr>\n",
              "    <tr>\n",
              "      <th>45206</th>\n",
              "      <td>51</td>\n",
              "      <td>technician</td>\n",
              "      <td>married</td>\n",
              "      <td>tertiary</td>\n",
              "      <td>cellular</td>\n",
              "      <td>17</td>\n",
              "      <td>nov</td>\n",
              "      <td>977</td>\n",
              "      <td>3</td>\n",
              "      <td>unknown</td>\n",
              "      <td>yes</td>\n",
              "    </tr>\n",
              "    <tr>\n",
              "      <th>45207</th>\n",
              "      <td>71</td>\n",
              "      <td>retired</td>\n",
              "      <td>divorced</td>\n",
              "      <td>primary</td>\n",
              "      <td>cellular</td>\n",
              "      <td>17</td>\n",
              "      <td>nov</td>\n",
              "      <td>456</td>\n",
              "      <td>2</td>\n",
              "      <td>unknown</td>\n",
              "      <td>yes</td>\n",
              "    </tr>\n",
              "    <tr>\n",
              "      <th>45208</th>\n",
              "      <td>72</td>\n",
              "      <td>retired</td>\n",
              "      <td>married</td>\n",
              "      <td>secondary</td>\n",
              "      <td>cellular</td>\n",
              "      <td>17</td>\n",
              "      <td>nov</td>\n",
              "      <td>1127</td>\n",
              "      <td>5</td>\n",
              "      <td>success</td>\n",
              "      <td>yes</td>\n",
              "    </tr>\n",
              "    <tr>\n",
              "      <th>45209</th>\n",
              "      <td>57</td>\n",
              "      <td>blue-collar</td>\n",
              "      <td>married</td>\n",
              "      <td>secondary</td>\n",
              "      <td>telephone</td>\n",
              "      <td>17</td>\n",
              "      <td>nov</td>\n",
              "      <td>508</td>\n",
              "      <td>4</td>\n",
              "      <td>unknown</td>\n",
              "      <td>no</td>\n",
              "    </tr>\n",
              "    <tr>\n",
              "      <th>45210</th>\n",
              "      <td>37</td>\n",
              "      <td>entrepreneur</td>\n",
              "      <td>married</td>\n",
              "      <td>secondary</td>\n",
              "      <td>cellular</td>\n",
              "      <td>17</td>\n",
              "      <td>nov</td>\n",
              "      <td>361</td>\n",
              "      <td>2</td>\n",
              "      <td>other</td>\n",
              "      <td>no</td>\n",
              "    </tr>\n",
              "  </tbody>\n",
              "</table>\n",
              "<p>45211 rows × 11 columns</p>\n",
              "</div>\n",
              "    <div class=\"colab-df-buttons\">\n",
              "\n",
              "  <div class=\"colab-df-container\">\n",
              "    <button class=\"colab-df-convert\" onclick=\"convertToInteractive('df-a1974d2f-5959-4260-879b-83ed532863e2')\"\n",
              "            title=\"Convert this dataframe to an interactive table.\"\n",
              "            style=\"display:none;\">\n",
              "\n",
              "  <svg xmlns=\"http://www.w3.org/2000/svg\" height=\"24px\" viewBox=\"0 -960 960 960\">\n",
              "    <path d=\"M120-120v-720h720v720H120Zm60-500h600v-160H180v160Zm220 220h160v-160H400v160Zm0 220h160v-160H400v160ZM180-400h160v-160H180v160Zm440 0h160v-160H620v160ZM180-180h160v-160H180v160Zm440 0h160v-160H620v160Z\"/>\n",
              "  </svg>\n",
              "    </button>\n",
              "\n",
              "  <style>\n",
              "    .colab-df-container {\n",
              "      display:flex;\n",
              "      gap: 12px;\n",
              "    }\n",
              "\n",
              "    .colab-df-convert {\n",
              "      background-color: #E8F0FE;\n",
              "      border: none;\n",
              "      border-radius: 50%;\n",
              "      cursor: pointer;\n",
              "      display: none;\n",
              "      fill: #1967D2;\n",
              "      height: 32px;\n",
              "      padding: 0 0 0 0;\n",
              "      width: 32px;\n",
              "    }\n",
              "\n",
              "    .colab-df-convert:hover {\n",
              "      background-color: #E2EBFA;\n",
              "      box-shadow: 0px 1px 2px rgba(60, 64, 67, 0.3), 0px 1px 3px 1px rgba(60, 64, 67, 0.15);\n",
              "      fill: #174EA6;\n",
              "    }\n",
              "\n",
              "    .colab-df-buttons div {\n",
              "      margin-bottom: 4px;\n",
              "    }\n",
              "\n",
              "    [theme=dark] .colab-df-convert {\n",
              "      background-color: #3B4455;\n",
              "      fill: #D2E3FC;\n",
              "    }\n",
              "\n",
              "    [theme=dark] .colab-df-convert:hover {\n",
              "      background-color: #434B5C;\n",
              "      box-shadow: 0px 1px 3px 1px rgba(0, 0, 0, 0.15);\n",
              "      filter: drop-shadow(0px 1px 2px rgba(0, 0, 0, 0.3));\n",
              "      fill: #FFFFFF;\n",
              "    }\n",
              "  </style>\n",
              "\n",
              "    <script>\n",
              "      const buttonEl =\n",
              "        document.querySelector('#df-a1974d2f-5959-4260-879b-83ed532863e2 button.colab-df-convert');\n",
              "      buttonEl.style.display =\n",
              "        google.colab.kernel.accessAllowed ? 'block' : 'none';\n",
              "\n",
              "      async function convertToInteractive(key) {\n",
              "        const element = document.querySelector('#df-a1974d2f-5959-4260-879b-83ed532863e2');\n",
              "        const dataTable =\n",
              "          await google.colab.kernel.invokeFunction('convertToInteractive',\n",
              "                                                    [key], {});\n",
              "        if (!dataTable) return;\n",
              "\n",
              "        const docLinkHtml = 'Like what you see? Visit the ' +\n",
              "          '<a target=\"_blank\" href=https://colab.research.google.com/notebooks/data_table.ipynb>data table notebook</a>'\n",
              "          + ' to learn more about interactive tables.';\n",
              "        element.innerHTML = '';\n",
              "        dataTable['output_type'] = 'display_data';\n",
              "        await google.colab.output.renderOutput(dataTable, element);\n",
              "        const docLink = document.createElement('div');\n",
              "        docLink.innerHTML = docLinkHtml;\n",
              "        element.appendChild(docLink);\n",
              "      }\n",
              "    </script>\n",
              "  </div>\n",
              "\n",
              "\n",
              "<div id=\"df-4b0ae6d3-b3a1-4ab2-8785-91ba993c9c89\">\n",
              "  <button class=\"colab-df-quickchart\" onclick=\"quickchart('df-4b0ae6d3-b3a1-4ab2-8785-91ba993c9c89')\"\n",
              "            title=\"Suggest charts\"\n",
              "            style=\"display:none;\">\n",
              "\n",
              "<svg xmlns=\"http://www.w3.org/2000/svg\" height=\"24px\"viewBox=\"0 0 24 24\"\n",
              "     width=\"24px\">\n",
              "    <g>\n",
              "        <path d=\"M19 3H5c-1.1 0-2 .9-2 2v14c0 1.1.9 2 2 2h14c1.1 0 2-.9 2-2V5c0-1.1-.9-2-2-2zM9 17H7v-7h2v7zm4 0h-2V7h2v10zm4 0h-2v-4h2v4z\"/>\n",
              "    </g>\n",
              "</svg>\n",
              "  </button>\n",
              "\n",
              "<style>\n",
              "  .colab-df-quickchart {\n",
              "      --bg-color: #E8F0FE;\n",
              "      --fill-color: #1967D2;\n",
              "      --hover-bg-color: #E2EBFA;\n",
              "      --hover-fill-color: #174EA6;\n",
              "      --disabled-fill-color: #AAA;\n",
              "      --disabled-bg-color: #DDD;\n",
              "  }\n",
              "\n",
              "  [theme=dark] .colab-df-quickchart {\n",
              "      --bg-color: #3B4455;\n",
              "      --fill-color: #D2E3FC;\n",
              "      --hover-bg-color: #434B5C;\n",
              "      --hover-fill-color: #FFFFFF;\n",
              "      --disabled-bg-color: #3B4455;\n",
              "      --disabled-fill-color: #666;\n",
              "  }\n",
              "\n",
              "  .colab-df-quickchart {\n",
              "    background-color: var(--bg-color);\n",
              "    border: none;\n",
              "    border-radius: 50%;\n",
              "    cursor: pointer;\n",
              "    display: none;\n",
              "    fill: var(--fill-color);\n",
              "    height: 32px;\n",
              "    padding: 0;\n",
              "    width: 32px;\n",
              "  }\n",
              "\n",
              "  .colab-df-quickchart:hover {\n",
              "    background-color: var(--hover-bg-color);\n",
              "    box-shadow: 0 1px 2px rgba(60, 64, 67, 0.3), 0 1px 3px 1px rgba(60, 64, 67, 0.15);\n",
              "    fill: var(--button-hover-fill-color);\n",
              "  }\n",
              "\n",
              "  .colab-df-quickchart-complete:disabled,\n",
              "  .colab-df-quickchart-complete:disabled:hover {\n",
              "    background-color: var(--disabled-bg-color);\n",
              "    fill: var(--disabled-fill-color);\n",
              "    box-shadow: none;\n",
              "  }\n",
              "\n",
              "  .colab-df-spinner {\n",
              "    border: 2px solid var(--fill-color);\n",
              "    border-color: transparent;\n",
              "    border-bottom-color: var(--fill-color);\n",
              "    animation:\n",
              "      spin 1s steps(1) infinite;\n",
              "  }\n",
              "\n",
              "  @keyframes spin {\n",
              "    0% {\n",
              "      border-color: transparent;\n",
              "      border-bottom-color: var(--fill-color);\n",
              "      border-left-color: var(--fill-color);\n",
              "    }\n",
              "    20% {\n",
              "      border-color: transparent;\n",
              "      border-left-color: var(--fill-color);\n",
              "      border-top-color: var(--fill-color);\n",
              "    }\n",
              "    30% {\n",
              "      border-color: transparent;\n",
              "      border-left-color: var(--fill-color);\n",
              "      border-top-color: var(--fill-color);\n",
              "      border-right-color: var(--fill-color);\n",
              "    }\n",
              "    40% {\n",
              "      border-color: transparent;\n",
              "      border-right-color: var(--fill-color);\n",
              "      border-top-color: var(--fill-color);\n",
              "    }\n",
              "    60% {\n",
              "      border-color: transparent;\n",
              "      border-right-color: var(--fill-color);\n",
              "    }\n",
              "    80% {\n",
              "      border-color: transparent;\n",
              "      border-right-color: var(--fill-color);\n",
              "      border-bottom-color: var(--fill-color);\n",
              "    }\n",
              "    90% {\n",
              "      border-color: transparent;\n",
              "      border-bottom-color: var(--fill-color);\n",
              "    }\n",
              "  }\n",
              "</style>\n",
              "\n",
              "  <script>\n",
              "    async function quickchart(key) {\n",
              "      const quickchartButtonEl =\n",
              "        document.querySelector('#' + key + ' button');\n",
              "      quickchartButtonEl.disabled = true;  // To prevent multiple clicks.\n",
              "      quickchartButtonEl.classList.add('colab-df-spinner');\n",
              "      try {\n",
              "        const charts = await google.colab.kernel.invokeFunction(\n",
              "            'suggestCharts', [key], {});\n",
              "      } catch (error) {\n",
              "        console.error('Error during call to suggestCharts:', error);\n",
              "      }\n",
              "      quickchartButtonEl.classList.remove('colab-df-spinner');\n",
              "      quickchartButtonEl.classList.add('colab-df-quickchart-complete');\n",
              "    }\n",
              "    (() => {\n",
              "      let quickchartButtonEl =\n",
              "        document.querySelector('#df-4b0ae6d3-b3a1-4ab2-8785-91ba993c9c89 button');\n",
              "      quickchartButtonEl.style.display =\n",
              "        google.colab.kernel.accessAllowed ? 'block' : 'none';\n",
              "    })();\n",
              "  </script>\n",
              "</div>\n",
              "\n",
              "  <div id=\"id_01c6e517-195d-4e2c-a76f-f1f0eb163562\">\n",
              "    <style>\n",
              "      .colab-df-generate {\n",
              "        background-color: #E8F0FE;\n",
              "        border: none;\n",
              "        border-radius: 50%;\n",
              "        cursor: pointer;\n",
              "        display: none;\n",
              "        fill: #1967D2;\n",
              "        height: 32px;\n",
              "        padding: 0 0 0 0;\n",
              "        width: 32px;\n",
              "      }\n",
              "\n",
              "      .colab-df-generate:hover {\n",
              "        background-color: #E2EBFA;\n",
              "        box-shadow: 0px 1px 2px rgba(60, 64, 67, 0.3), 0px 1px 3px 1px rgba(60, 64, 67, 0.15);\n",
              "        fill: #174EA6;\n",
              "      }\n",
              "\n",
              "      [theme=dark] .colab-df-generate {\n",
              "        background-color: #3B4455;\n",
              "        fill: #D2E3FC;\n",
              "      }\n",
              "\n",
              "      [theme=dark] .colab-df-generate:hover {\n",
              "        background-color: #434B5C;\n",
              "        box-shadow: 0px 1px 3px 1px rgba(0, 0, 0, 0.15);\n",
              "        filter: drop-shadow(0px 1px 2px rgba(0, 0, 0, 0.3));\n",
              "        fill: #FFFFFF;\n",
              "      }\n",
              "    </style>\n",
              "    <button class=\"colab-df-generate\" onclick=\"generateWithVariable('file')\"\n",
              "            title=\"Generate code using this dataframe.\"\n",
              "            style=\"display:none;\">\n",
              "\n",
              "  <svg xmlns=\"http://www.w3.org/2000/svg\" height=\"24px\"viewBox=\"0 0 24 24\"\n",
              "       width=\"24px\">\n",
              "    <path d=\"M7,19H8.4L18.45,9,17,7.55,7,17.6ZM5,21V16.75L18.45,3.32a2,2,0,0,1,2.83,0l1.4,1.43a1.91,1.91,0,0,1,.58,1.4,1.91,1.91,0,0,1-.58,1.4L9.25,21ZM18.45,9,17,7.55Zm-12,3A5.31,5.31,0,0,0,4.9,8.1,5.31,5.31,0,0,0,1,6.5,5.31,5.31,0,0,0,4.9,4.9,5.31,5.31,0,0,0,6.5,1,5.31,5.31,0,0,0,8.1,4.9,5.31,5.31,0,0,0,12,6.5,5.46,5.46,0,0,0,6.5,12Z\"/>\n",
              "  </svg>\n",
              "    </button>\n",
              "    <script>\n",
              "      (() => {\n",
              "      const buttonEl =\n",
              "        document.querySelector('#id_01c6e517-195d-4e2c-a76f-f1f0eb163562 button.colab-df-generate');\n",
              "      buttonEl.style.display =\n",
              "        google.colab.kernel.accessAllowed ? 'block' : 'none';\n",
              "\n",
              "      buttonEl.onclick = () => {\n",
              "        google.colab.notebook.generateWithVariable('file');\n",
              "      }\n",
              "      })();\n",
              "    </script>\n",
              "  </div>\n",
              "\n",
              "    </div>\n",
              "  </div>\n"
            ],
            "application/vnd.google.colaboratory.intrinsic+json": {
              "type": "dataframe",
              "variable_name": "file",
              "summary": "{\n  \"name\": \"file\",\n  \"rows\": 45211,\n  \"fields\": [\n    {\n      \"column\": \"age\",\n      \"properties\": {\n        \"dtype\": \"number\",\n        \"std\": 10,\n        \"min\": 18,\n        \"max\": 95,\n        \"num_unique_values\": 77,\n        \"samples\": [\n          35,\n          34,\n          53\n        ],\n        \"semantic_type\": \"\",\n        \"description\": \"\"\n      }\n    },\n    {\n      \"column\": \"job\",\n      \"properties\": {\n        \"dtype\": \"category\",\n        \"num_unique_values\": 12,\n        \"samples\": [\n          \"housemaid\",\n          \"unemployed\",\n          \"management\"\n        ],\n        \"semantic_type\": \"\",\n        \"description\": \"\"\n      }\n    },\n    {\n      \"column\": \"marital\",\n      \"properties\": {\n        \"dtype\": \"category\",\n        \"num_unique_values\": 3,\n        \"samples\": [\n          \"married\",\n          \"single\",\n          \"divorced\"\n        ],\n        \"semantic_type\": \"\",\n        \"description\": \"\"\n      }\n    },\n    {\n      \"column\": \"education_qual\",\n      \"properties\": {\n        \"dtype\": \"category\",\n        \"num_unique_values\": 4,\n        \"samples\": [\n          \"secondary\",\n          \"primary\",\n          \"tertiary\"\n        ],\n        \"semantic_type\": \"\",\n        \"description\": \"\"\n      }\n    },\n    {\n      \"column\": \"call_type\",\n      \"properties\": {\n        \"dtype\": \"category\",\n        \"num_unique_values\": 3,\n        \"samples\": [\n          \"unknown\",\n          \"cellular\",\n          \"telephone\"\n        ],\n        \"semantic_type\": \"\",\n        \"description\": \"\"\n      }\n    },\n    {\n      \"column\": \"day\",\n      \"properties\": {\n        \"dtype\": \"number\",\n        \"std\": 8,\n        \"min\": 1,\n        \"max\": 31,\n        \"num_unique_values\": 31,\n        \"samples\": [\n          1,\n          27,\n          17\n        ],\n        \"semantic_type\": \"\",\n        \"description\": \"\"\n      }\n    },\n    {\n      \"column\": \"mon\",\n      \"properties\": {\n        \"dtype\": \"category\",\n        \"num_unique_values\": 12,\n        \"samples\": [\n          \"apr\",\n          \"mar\",\n          \"may\"\n        ],\n        \"semantic_type\": \"\",\n        \"description\": \"\"\n      }\n    },\n    {\n      \"column\": \"dur\",\n      \"properties\": {\n        \"dtype\": \"number\",\n        \"std\": 257,\n        \"min\": 0,\n        \"max\": 4918,\n        \"num_unique_values\": 1573,\n        \"samples\": [\n          835,\n          1135,\n          1735\n        ],\n        \"semantic_type\": \"\",\n        \"description\": \"\"\n      }\n    },\n    {\n      \"column\": \"num_calls\",\n      \"properties\": {\n        \"dtype\": \"number\",\n        \"std\": 3,\n        \"min\": 1,\n        \"max\": 63,\n        \"num_unique_values\": 48,\n        \"samples\": [\n          41,\n          27,\n          63\n        ],\n        \"semantic_type\": \"\",\n        \"description\": \"\"\n      }\n    },\n    {\n      \"column\": \"prev_outcome\",\n      \"properties\": {\n        \"dtype\": \"category\",\n        \"num_unique_values\": 4,\n        \"samples\": [\n          \"failure\",\n          \"success\",\n          \"unknown\"\n        ],\n        \"semantic_type\": \"\",\n        \"description\": \"\"\n      }\n    },\n    {\n      \"column\": \"y\",\n      \"properties\": {\n        \"dtype\": \"category\",\n        \"num_unique_values\": 2,\n        \"samples\": [\n          \"yes\",\n          \"no\"\n        ],\n        \"semantic_type\": \"\",\n        \"description\": \"\"\n      }\n    }\n  ]\n}"
            }
          },
          "metadata": {},
          "execution_count": 153
        }
      ],
      "source": [
        "file = pd.read_csv('/content/drive/MyDrive/train.csv')\n",
        "file"
      ]
    },
    {
      "cell_type": "code",
      "execution_count": 154,
      "metadata": {
        "colab": {
          "base_uri": "https://localhost:8080/"
        },
        "id": "e6Lq4wpzEvBS",
        "outputId": "1c0b6535-485a-422e-aeb3-f6191410f3be"
      },
      "outputs": [
        {
          "output_type": "execute_result",
          "data": {
            "text/plain": [
              "age               0\n",
              "job               0\n",
              "marital           0\n",
              "education_qual    0\n",
              "call_type         0\n",
              "day               0\n",
              "mon               0\n",
              "dur               0\n",
              "num_calls         0\n",
              "prev_outcome      0\n",
              "y                 0\n",
              "dtype: int64"
            ]
          },
          "metadata": {},
          "execution_count": 154
        }
      ],
      "source": [
        "file.isnull().sum()"
      ]
    },
    {
      "cell_type": "code",
      "execution_count": 155,
      "metadata": {
        "colab": {
          "base_uri": "https://localhost:8080/"
        },
        "id": "sxh_YLZ7Eu-T",
        "outputId": "8eb007e9-2b9a-4c6d-becd-bab10d839a46"
      },
      "outputs": [
        {
          "output_type": "execute_result",
          "data": {
            "text/plain": [
              "(45205, 11)"
            ]
          },
          "metadata": {},
          "execution_count": 155
        }
      ],
      "source": [
        "file.drop_duplicates(inplace=True)\n",
        "file.shape"
      ]
    },
    {
      "cell_type": "code",
      "execution_count": 156,
      "metadata": {
        "colab": {
          "base_uri": "https://localhost:8080/"
        },
        "id": "izV3XUmcEu7B",
        "outputId": "d6e3b7b3-8902-4bbe-a43c-748f5bb48f93"
      },
      "outputs": [
        {
          "output_type": "execute_result",
          "data": {
            "text/plain": [
              "age                int64\n",
              "job               object\n",
              "marital           object\n",
              "education_qual    object\n",
              "call_type         object\n",
              "day                int64\n",
              "mon               object\n",
              "dur                int64\n",
              "num_calls          int64\n",
              "prev_outcome      object\n",
              "y                 object\n",
              "dtype: object"
            ]
          },
          "metadata": {},
          "execution_count": 156
        }
      ],
      "source": [
        "file.dtypes"
      ]
    },
    {
      "cell_type": "code",
      "execution_count": 157,
      "metadata": {
        "id": "L70EHfoEOUjd"
      },
      "outputs": [],
      "source": [
        "for feature in ['age','day','dur','num_calls']:\n",
        "        iqr = file[feature].quantile(0.75) - file[feature].quantile(0.25)\n",
        "        upper_threshold = file[feature].quantile(0.75) + (1.5 * iqr)\n",
        "        lower_threshold = file[feature].quantile(0.25) - (1.5 * iqr)\n",
        "        file[feature] = file[feature].clip(lower_threshold, upper_threshold)"
      ]
    },
    {
      "cell_type": "markdown",
      "metadata": {
        "id": "xlxEWPk3Q1mG"
      },
      "source": [
        "#EDA AND ENCODING"
      ]
    },
    {
      "cell_type": "code",
      "execution_count": 158,
      "metadata": {
        "id": "Bg1aMpPwQ9pE"
      },
      "outputs": [],
      "source": [
        "file['y'] = file['y'].map({'yes':1, 'no':0})"
      ]
    },
    {
      "cell_type": "code",
      "execution_count": 159,
      "metadata": {
        "colab": {
          "base_uri": "https://localhost:8080/",
          "height": 449
        },
        "id": "gVsL3c5JEu0t",
        "outputId": "cea7a423-fca0-42ed-f1d3-63a6184bdd24"
      },
      "outputs": [
        {
          "output_type": "display_data",
          "data": {
            "text/plain": [
              "<Figure size 640x480 with 1 Axes>"
            ],
            "image/png": "[encoded data removed]"
          },
          "metadata": {}
        }
      ],
      "source": [
        "mean_prices = file.groupby('y')['age'].mean().sort_values().reset_index()\n",
        "mean_prices.plot(x='y', y='age')\n",
        "plt.show()"
      ]
    },
    {
      "cell_type": "code",
      "execution_count": 160,
      "metadata": {
        "colab": {
          "base_uri": "https://localhost:8080/",
          "height": 675
        },
        "id": "AyMSkRuPRb69",
        "outputId": "fa42c7e1-1d1e-49b3-9417-40c6dfd6074e"
      },
      "outputs": [
        {
          "output_type": "stream",
          "name": "stdout",
          "text": [
            "              job         y\n",
            "1     blue-collar  0.072765\n",
            "2    entrepreneur  0.082717\n",
            "3       housemaid  0.087903\n",
            "7        services  0.088851\n",
            "9      technician  0.110585\n",
            "11        unknown  0.118056\n",
            "6   self-employed  0.118429\n",
            "0          admin.  0.122050\n",
            "4      management  0.137570\n",
            "10     unemployed  0.155027\n",
            "5         retired  0.227915\n",
            "8         student  0.286780\n"
          ]
        },
        {
          "output_type": "display_data",
          "data": {
            "text/plain": [
              "<Figure size 640x480 with 1 Axes>"
            ],
            "image/png": "[encoded data removed]"
          },
          "metadata": {}
        }
      ],
      "source": [
        "print((file.groupby('job')['y'].mean()).reset_index().sort_values('y'))\n",
        "mean_prices = file.groupby('job')['y'].mean().sort_values().reset_index()\n",
        "mean_prices.plot(x='job', y='y')\n",
        "plt.show()"
      ]
    },
    {
      "cell_type": "code",
      "execution_count": 161,
      "metadata": {
        "id": "WFiD_HdvWhh8"
      },
      "outputs": [],
      "source": [
        "file['job'] = file['job'].map({ 'blue-collar' : 0,'entrepreneur':1,'housemaid': 2,'services': 3,'technician': 4,'unknown': 5,'self-employed': 6,'admin.': 7,'management':8,'unemployed': 9,'retired': 10,'student':11})"
      ]
    },
    {
      "cell_type": "code",
      "execution_count": 162,
      "metadata": {
        "colab": {
          "base_uri": "https://localhost:8080/",
          "height": 449
        },
        "id": "nHtp25zaWhcr",
        "outputId": "85117013-a924-4ca2-f230-4ce51a165fbd"
      },
      "outputs": [
        {
          "output_type": "display_data",
          "data": {
            "text/plain": [
              "<Figure size 640x480 with 1 Axes>"
            ],
            "image/png": "[encoded data removed]"
          },
          "metadata": {}
        }
      ],
      "source": [
        "mean_prices = file.groupby('marital')['y'].mean().sort_values().reset_index()\n",
        "mean_prices.plot(x='marital', y='y')\n",
        "plt.show()"
      ]
    },
    {
      "cell_type": "code",
      "execution_count": 163,
      "metadata": {
        "id": "XeUU06NkWhYS"
      },
      "outputs": [],
      "source": [
        "file['marital'] = file['marital'].map({'married':0,'divorced':1,'single':2})"
      ]
    },
    {
      "cell_type": "code",
      "execution_count": 164,
      "metadata": {
        "colab": {
          "base_uri": "https://localhost:8080/",
          "height": 450
        },
        "id": "p8HfJmilWhUs",
        "outputId": "f0b9189c-26be-4753-8f5c-9b66e0870f1d"
      },
      "outputs": [
        {
          "output_type": "display_data",
          "data": {
            "text/plain": [
              "<Figure size 640x480 with 1 Axes>"
            ],
            "image/png": "[encoded data removed]"
          },
          "metadata": {}
        }
      ],
      "source": [
        "mean_prices = file.groupby('education_qual')['y'].mean().sort_values().reset_index()\n",
        "mean_prices.plot(x='education_qual', y='y')\n",
        "plt.show()"
      ]
    },
    {
      "cell_type": "code",
      "execution_count": 165,
      "metadata": {
        "id": "wNkRNV5NbBCx"
      },
      "outputs": [],
      "source": [
        "file['education_qual'] = file['education_qual'].map({'primary':0,'secondary':1,'unknown':2,'tertiary':3})"
      ]
    },
    {
      "cell_type": "code",
      "execution_count": 166,
      "metadata": {
        "colab": {
          "base_uri": "https://localhost:8080/",
          "height": 450
        },
        "id": "jMakB2gFWhRG",
        "outputId": "f6b87d3a-9573-47ad-e0a1-53cdb539f3bd"
      },
      "outputs": [
        {
          "output_type": "display_data",
          "data": {
            "text/plain": [
              "<Figure size 640x480 with 1 Axes>"
            ],
            "image/png": "[encoded data removed]"
          },
          "metadata": {}
        }
      ],
      "source": [
        "mean_prices = file.groupby('call_type')['y'].mean().sort_values().reset_index()\n",
        "mean_prices.plot(x='call_type', y='y')\n",
        "plt.show()"
      ]
    },
    {
      "cell_type": "code",
      "execution_count": 167,
      "metadata": {
        "id": "9t4Pb1c1bSq_"
      },
      "outputs": [],
      "source": [
        "file['call_type'] = file['call_type'].map({'cellular':0,'telephone':1,'unknown':2})"
      ]
    },
    {
      "cell_type": "code",
      "execution_count": 168,
      "metadata": {
        "colab": {
          "base_uri": "https://localhost:8080/",
          "height": 449
        },
        "id": "Cy0h0AB_WhMt",
        "outputId": "804b97d4-d0a4-4367-85a0-c06df5ab867d"
      },
      "outputs": [
        {
          "output_type": "display_data",
          "data": {
            "text/plain": [
              "<Figure size 640x480 with 1 Axes>"
            ],
            "image/png": "[encoded data removed]"
          },
          "metadata": {}
        }
      ],
      "source": [
        "mean_prices = file.groupby('y')['day'].mean().sort_values().reset_index()\n",
        "mean_prices.plot(x='y', y='day')\n",
        "plt.show()"
      ]
    },
    {
      "cell_type": "code",
      "execution_count": 169,
      "metadata": {
        "colab": {
          "base_uri": "https://localhost:8080/",
          "height": 675
        },
        "id": "m9e8hViSaW5s",
        "outputId": "e236be9c-02cb-4125-af98-36c48aaf6c8a"
      },
      "outputs": [
        {
          "output_type": "stream",
          "name": "stdout",
          "text": [
            "    mon         y\n",
            "8   may  0.067199\n",
            "5   jul  0.090949\n",
            "4   jan  0.101212\n",
            "9   nov  0.101511\n",
            "6   jun  0.102266\n",
            "1   aug  0.110168\n",
            "3   feb  0.166478\n",
            "0   apr  0.196794\n",
            "10  oct  0.437669\n",
            "11  sep  0.464594\n",
            "2   dec  0.467290\n",
            "7   mar  0.519916\n"
          ]
        },
        {
          "output_type": "display_data",
          "data": {
            "text/plain": [
              "<Figure size 640x480 with 1 Axes>"
            ],
            "image/png": "[encoded data removed]"
          },
          "metadata": {}
        }
      ],
      "source": [
        "print((file.groupby('mon')['y'].mean()).reset_index().sort_values('y'))\n",
        "mean_prices = file.groupby('mon')['y'].mean().sort_values().reset_index()\n",
        "mean_prices.plot(x='mon', y='y')\n",
        "plt.show()"
      ]
    },
    {
      "cell_type": "code",
      "execution_count": 170,
      "metadata": {
        "id": "TmVgMKcMbSpC"
      },
      "outputs": [],
      "source": [
        "file['mon'] = file['mon'].map({'may':0,'jul':1,'jan':2,'nov':3,'jun':4,'aug':5,'feb':6,'apr':7,'oct':8,'sep':9,'dec':10,'mar':11})"
      ]
    },
    {
      "cell_type": "code",
      "execution_count": 171,
      "metadata": {
        "colab": {
          "base_uri": "https://localhost:8080/",
          "height": 449
        },
        "id": "BAXjqZUWaYrM",
        "outputId": "968aaf6f-9f30-49db-a163-4001c1cbcf58"
      },
      "outputs": [
        {
          "output_type": "display_data",
          "data": {
            "text/plain": [
              "<Figure size 640x480 with 1 Axes>"
            ],
            "image/png": "[encoded data removed]"
          },
          "metadata": {}
        }
      ],
      "source": [
        "mean_prices = file.groupby('y')['dur'].mean().sort_values().reset_index()\n",
        "mean_prices.plot(x='y', y='dur')\n",
        "plt.show()"
      ]
    },
    {
      "cell_type": "code",
      "execution_count": 172,
      "metadata": {
        "colab": {
          "base_uri": "https://localhost:8080/",
          "height": 449
        },
        "id": "4tGl52sIaYLj",
        "outputId": "41a2c2c8-2c9d-46f9-8f77-b4d237fd553b"
      },
      "outputs": [
        {
          "output_type": "display_data",
          "data": {
            "text/plain": [
              "<Figure size 640x480 with 1 Axes>"
            ],
            "image/png": "[encoded data removed]"
          },
          "metadata": {}
        }
      ],
      "source": [
        "mean_prices = file.groupby('y')['num_calls'].mean().sort_values().reset_index()\n",
        "mean_prices.plot(x='y', y='num_calls')\n",
        "plt.show()"
      ]
    },
    {
      "cell_type": "code",
      "execution_count": 173,
      "metadata": {
        "colab": {
          "base_uri": "https://localhost:8080/",
          "height": 536
        },
        "id": "W-OfSNXjaXkE",
        "outputId": "5a533ca8-3b14-454b-e072-358d29ed0e6a"
      },
      "outputs": [
        {
          "output_type": "stream",
          "name": "stdout",
          "text": [
            "  prev_outcome         y\n",
            "3      unknown  0.091630\n",
            "0      failure  0.126097\n",
            "1        other  0.166848\n",
            "2      success  0.647253\n"
          ]
        },
        {
          "output_type": "display_data",
          "data": {
            "text/plain": [
              "<Figure size 640x480 with 1 Axes>"
            ],
            "image/png": "[encoded data removed]"
          },
          "metadata": {}
        }
      ],
      "source": [
        "print((file.groupby('prev_outcome')['y'].mean()).reset_index().sort_values('y'))\n",
        "mean_prices = file.groupby('prev_outcome')['y'].mean().sort_values().reset_index()\n",
        "mean_prices.plot(x='prev_outcome', y='y')\n",
        "plt.show()"
      ]
    },
    {
      "cell_type": "code",
      "execution_count": 174,
      "metadata": {
        "id": "qXDLE1x3fhTI"
      },
      "outputs": [],
      "source": [
        "file['prev_outcome'] = file['prev_outcome'].map({'unknown':0,'failure':1,'other':2,'success':3})"
      ]
    },
    {
      "cell_type": "markdown",
      "metadata": {
        "id": "Dx0aX1VUx5w5"
      },
      "source": [
        "###SPLIT###"
      ]
    },
    {
      "cell_type": "code",
      "execution_count": 175,
      "metadata": {
        "colab": {
          "base_uri": "https://localhost:8080/"
        },
        "id": "Q9UjABxwguS-",
        "outputId": "95835581-8e0f-4bf5-915c-a640609b1300"
      },
      "outputs": [
        {
          "output_type": "execute_result",
          "data": {
            "text/plain": [
              "((33903, 10), (11302, 10), (33903,), (11302,))"
            ]
          },
          "metadata": {},
          "execution_count": 175
        }
      ],
      "source": [
        "from sklearn.model_selection import train_test_split\n",
        "\n",
        "\n",
        "X = file.loc[:, file.columns[:10]].values\n",
        "y = file['y']\n",
        "\n",
        "X_train, X_test, y_train, y_test = train_test_split(X, y, test_size = 0.25, random_state = 7)\n",
        "X_train.shape, X_test.shape, y_train.shape, y_test.shape"
      ]
    },
    {
      "cell_type": "markdown",
      "metadata": {
        "id": "bpqwl8FQzaZ2"
      },
      "source": [
        "# Scaling - Not mandatory"
      ]
    },
    {
      "cell_type": "markdown",
      "metadata": {
        "id": "B_nF1SBDzhrE"
      },
      "source": [
        "# Model"
      ]
    },
    {
      "cell_type": "code",
      "execution_count": 176,
      "metadata": {
        "id": "8vT8C6DMzakS"
      },
      "outputs": [],
      "source": [
        "# Logistic regression\n",
        "# Decision Tree\n",
        "# Random Forest\n",
        "# XG Boost"
      ]
    },
    {
      "cell_type": "code",
      "execution_count": 177,
      "metadata": {
        "colab": {
          "base_uri": "https://localhost:8080/"
        },
        "id": "AFEcmetzzcNo",
        "outputId": "73292939-bcc2-49a2-8b56-a7601c15e5f8"
      },
      "outputs": [
        {
          "output_type": "execute_result",
          "data": {
            "text/plain": [
              "y\n",
              "0    88.299967\n",
              "1    11.700033\n",
              "Name: count, dtype: float64"
            ]
          },
          "metadata": {},
          "execution_count": 177
        }
      ],
      "source": [
        "file.y.value_counts() / file.shape[0]*100"
      ]
    },
    {
      "cell_type": "markdown",
      "metadata": {
        "id": "IH35wCBr0sQr"
      },
      "source": [
        "#Without balancing - lets fit the model (F1 Score)"
      ]
    },
    {
      "cell_type": "markdown",
      "metadata": {
        "id": "14V12BVv71RO"
      },
      "source": [
        "#LogisticRegression"
      ]
    },
    {
      "cell_type": "code",
      "execution_count": 178,
      "metadata": {
        "colab": {
          "base_uri": "https://localhost:8080/"
        },
        "id": "kT4hD8oU1szj",
        "outputId": "78ea172d-47a7-4974-d7b8-e9617da05656"
      },
      "outputs": [
        {
          "output_type": "stream",
          "name": "stdout",
          "text": [
            "Test data accuracy : 0.8979826579366483, F1-Score: 0.4237881059470265\n"
          ]
        },
        {
          "output_type": "stream",
          "name": "stderr",
          "text": [
            "/usr/local/lib/python3.10/dist-packages/sklearn/linear_model/_logistic.py:460: ConvergenceWarning: lbfgs failed to converge (status=1):\n",
            "STOP: TOTAL NO. of ITERATIONS REACHED LIMIT.\n",
            "\n",
            "Increase the number of iterations (max_iter) or scale the data as shown in:\n",
            "    https://scikit-learn.org/stable/modules/preprocessing.html\n",
            "Please also refer to the documentation for alternative solver options:\n",
            "    https://scikit-learn.org/stable/modules/linear_model.html#logistic-regression\n",
            "  n_iter_i = _check_optimize_result(\n"
          ]
        }
      ],
      "source": [
        "from sklearn.linear_model import LogisticRegression\n",
        "from sklearn.metrics import f1_score\n",
        "\n",
        "model = LogisticRegression()\n",
        "model.fit(X_train, y_train)\n",
        "print(f\"Test data accuracy : {model.score(X_test, y_test)}, F1-Score: {f1_score(model.predict(X_test), y_test)}\")"
      ]
    },
    {
      "cell_type": "markdown",
      "metadata": {
        "id": "u5Ms0xYx8CF0"
      },
      "source": [
        "#DecisionTreeClassifier"
      ]
    },
    {
      "cell_type": "code",
      "execution_count": 179,
      "metadata": {
        "colab": {
          "base_uri": "https://localhost:8080/"
        },
        "id": "DHbxkQKw_PZO",
        "outputId": "80a18dd3-a572-4d72-f2ba-3d20405c7869"
      },
      "outputs": [
        {
          "output_type": "stream",
          "name": "stdout",
          "text": [
            "Depth - 1, TrainScore: 0.8821048284812554, Cross-ValScore: 0.8821048341566998\n",
            "Depth - 2, TrainScore: 0.8904816682889419, Cross-ValScore: 0.8904822934907515\n",
            "Depth - 3, TrainScore: 0.8980916143114178, Cross-ValScore: 0.8968826644188287\n",
            "Depth - 4, TrainScore: 0.9006872548152081, Cross-ValScore: 0.8982689211160203\n",
            "Depth - 5, TrainScore: 0.9033713830634457, Cross-ValScore: 0.898652306252278\n",
            "Depth - 6, TrainScore: 0.9062029908857623, Cross-ValScore: 0.8999797137834056\n",
            "Depth - 7, TrainScore: 0.9091525823673421, Cross-ValScore: 0.8977084317414917\n",
            "Depth - 8, TrainScore: 0.9126625962304221, Cross-ValScore: 0.8977380085581389\n",
            "Depth - 9, TrainScore: 0.9186502669380291, Cross-ValScore: 0.8965287691085807\n",
            "Depth - 10, TrainScore: 0.9236645724567147, Cross-ValScore: 0.8946410722813904\n"
          ]
        }
      ],
      "source": [
        "from sklearn.tree import DecisionTreeClassifier\n",
        "from sklearn.metrics import f1_score\n",
        "from sklearn.model_selection import cross_val_score\n",
        "\n",
        "for depth in [1,2,3,4,5,6,7,8,9,10]:\n",
        "  model = DecisionTreeClassifier(max_depth = depth)\n",
        "  model.fit(X_train, y_train)\n",
        "  train_score = model.score(X_train, y_train)\n",
        "  cross_val = np.mean(cross_val_score(model, X_train, y_train, cv = 10))\n",
        "  print(f\"Depth - {depth}, TrainScore: {train_score}, Cross-ValScore: {cross_val}\")"
      ]
    },
    {
      "cell_type": "code",
      "execution_count": 180,
      "metadata": {
        "colab": {
          "base_uri": "https://localhost:8080/"
        },
        "id": "HoOxdlhD_Vh_",
        "outputId": "9dbf5de6-c2e0-4c8e-8f37-3854a920fc86"
      },
      "outputs": [
        {
          "output_type": "stream",
          "name": "stdout",
          "text": [
            "Test data accuracy : 0.903202972925146, F1-Score: 0.4935185185185185\n"
          ]
        }
      ],
      "source": [
        "model = DecisionTreeClassifier(max_depth = 6)\n",
        "model.fit(X_train, y_train)\n",
        "print(f\"Test data accuracy : {model.score(X_test, y_test)}, F1-Score: {f1_score(model.predict(X_test), y_test)}\")"
      ]
    },
    {
      "cell_type": "markdown",
      "metadata": {
        "id": "886qFqUN8HhU"
      },
      "source": [
        "# RandomForestClassifier\n",
        "\n",
        "\n"
      ]
    },
    {
      "cell_type": "code",
      "execution_count": 217,
      "metadata": {
        "colab": {
          "base_uri": "https://localhost:8080/"
        },
        "id": "0sGEwdj0ZErN",
        "outputId": "66a876db-4816-438a-ca2e-701ff592b902"
      },
      "outputs": [
        {
          "output_type": "stream",
          "name": "stdout",
          "text": [
            "N: 10, Cross-Val Score: 0.8838071156730386\n",
            "N: 20, Cross-Val Score: 0.883779460805782\n",
            "N: 50, Cross-Val Score: 0.883779460805782\n",
            "N: 100, Cross-Val Score: 0.883779460805782\n",
            "N: 200, Cross-Val Score: 0.883779460805782\n",
            "N: 500, Cross-Val Score: 0.883779460805782\n",
            "N: 1000, Cross-Val Score: 0.883779460805782\n"
          ]
        }
      ],
      "source": [
        "from sklearn.ensemble import RandomForestClassifier\n",
        "\n",
        "model = RandomForestClassifier(max_depth = 3, max_features = \"sqrt\")\n",
        "\n",
        "for n in [10, 20, 50, 100, 200, 500, 1000]:\n",
        "  model = RandomForestClassifier(n_estimators = n, max_depth = 3, max_features = \"sqrt\")\n",
        "  model.fit(X_train, y_train)\n",
        "  cross_score = np.mean(cross_val_score(model, X_train, y_train, cv = 10))\n",
        "  print(f\"N: {n}, Cross-Val Score: {cross_score}\")\n",
        "\n",
        "\n"
      ]
    },
    {
      "cell_type": "markdown",
      "source": [],
      "metadata": {
        "id": "z8oUQuarbSKA"
      }
    },
    {
      "cell_type": "code",
      "source": [
        "model = RandomForestClassifier(n_estimators = 10, max_depth = 3, max_features = \"sqrt\")\n",
        "model.fit(X_train, y_train)\n",
        "print(f\"Test data accuracy : {model.score(X_test, y_test)}, F1-Score: {f1_score(model.predict(X_test), y_test)}\")"
      ],
      "metadata": {
        "id": "R07y_zMzbUJY",
        "outputId": "1326bd3f-1252-4e1c-e565-43c46bcc1131",
        "colab": {
          "base_uri": "https://localhost:8080/"
        }
      },
      "execution_count": 235,
      "outputs": [
        {
          "output_type": "stream",
          "name": "stdout",
          "text": [
            "Test data accuracy : 0.8804335803561553, F1-Score: 0.03222918531781558\n"
          ]
        }
      ]
    },
    {
      "cell_type": "code",
      "execution_count": 183,
      "metadata": {
        "colab": {
          "base_uri": "https://localhost:8080/"
        },
        "id": "g3fsnGU0Zf7b",
        "outputId": "c7ae3d5c-4b15-48da-c401-a03f570137cd"
      },
      "outputs": [
        {
          "output_type": "stream",
          "name": "stdout",
          "text": [
            "Lambda: 0.001, Cross-Val Score: 0.8821048341566998\n",
            "Lambda: 0.002, Cross-Val Score: 0.8821048341566998\n",
            "Lambda: 0.005, Cross-Val Score: 0.8821048341566998\n",
            "Lambda: 0.006, Cross-Val Score: 0.8821048341566998\n",
            "Lambda: 0.007, Cross-Val Score: 0.8831077318148248\n",
            "Lambda: 0.008, Cross-Val Score: 0.8891544075111195\n",
            "Lambda: 0.009, Cross-Val Score: 0.8914551445827886\n",
            "Lambda: 0.01, Cross-Val Score: 0.892664558013621\n",
            "Lambda: 0.011, Cross-Val Score: 0.8929890417894322\n",
            "Lambda: 0.012, Cross-Val Score: 0.893932933698346\n",
            "Lambda: 0.013, Cross-Val Score: 0.8951128573031685\n",
            "Lambda: 0.014, Cross-Val Score: 0.895997743462871\n",
            "Lambda: 0.015, Cross-Val Score: 0.8970596468702071\n",
            "Lambda: 0.016, Cross-Val Score: 0.8974725740268574\n",
            "Lambda: 0.017, Cross-Val Score: 0.8980330460032586\n",
            "Lambda: 0.018, Cross-Val Score: 0.8987409236143915\n",
            "Lambda: 0.019, Cross-Val Score: 0.8987114076911903\n",
            "Lambda: 0.02, Cross-Val Score: 0.8988294017914852\n",
            "Lambda: 0.05, Cross-Val Score: 0.902427917383252\n",
            "Lambda: 0.1, Cross-Val Score: 0.9037846059628603\n",
            "Lambda: 0.2, Cross-Val Score: 0.9024866012671058\n",
            "Lambda: 0.5, Cross-Val Score: 0.8995961807630645\n",
            "Lambda: 1, Cross-Val Score: 0.8909243973071177\n",
            "Test data accuracy : 0.906034330207043, F1-Score: 0.5163934426229508\n"
          ]
        }
      ],
      "source": [
        "from xgboost import XGBClassifier\n",
        "\n",
        "for lamb in [0.001, 0.002, 0.005, 0.006, 0.007, 0.008, 0.009, 0.01, 0.011, 0.012, 0.013, 0.014, 0.015, 0.016, 0.017, 0.018, 0.019, 0.02, 0.05, 0.1, 0.2, 0.5, 1]:\n",
        "  model = XGBClassifier(learning_rate = lamb)\n",
        "  model.fit(X_train, y_train)\n",
        "  cross_score = np.mean(cross_val_score(model, X_train, y_train, cv = 10))\n",
        "  print(f\"Lambda: {lamb}, Cross-Val Score: {cross_score}\")\n",
        "\n",
        "\n",
        "\n",
        "\n",
        "model = XGBClassifier(learning_rate = 0.1)\n",
        "model.fit(X_train, y_train)\n",
        "print(f\"Test data accuracy : {model.score(X_test, y_test)}, F1-Score: {f1_score(model.predict(X_test), y_test)}\")"
      ]
    },
    {
      "cell_type": "markdown",
      "metadata": {
        "id": "22AlFBWK0uwt"
      },
      "source": [
        "###IMBLEARN - SMOTE + ENN (OverSampling + Undersampling)###"
      ]
    },
    {
      "cell_type": "code",
      "execution_count": 184,
      "metadata": {
        "id": "D8LbUHck0mSM"
      },
      "outputs": [],
      "source": [
        "from imblearn.combine import SMOTEENN\n",
        "\n",
        "cc = SMOTEENN(random_state=7)\n",
        "\n",
        "X_train_smoteenn, y_train_smoteenn = cc.fit_resample(X_train, y_train)"
      ]
    },
    {
      "cell_type": "code",
      "execution_count": 185,
      "metadata": {
        "id": "inRy9BOvzcHj",
        "colab": {
          "base_uri": "https://localhost:8080/"
        },
        "outputId": "4461cb39-e09b-4906-f785-878229b7994d"
      },
      "outputs": [
        {
          "output_type": "execute_result",
          "data": {
            "text/plain": [
              "y\n",
              "1    56.234186\n",
              "0    43.765814\n",
              "Name: count, dtype: float64"
            ]
          },
          "metadata": {},
          "execution_count": 185
        }
      ],
      "source": [
        "y_train_smoteenn.value_counts() / y_train_smoteenn.shape[0]*100"
      ]
    },
    {
      "cell_type": "code",
      "execution_count": 186,
      "metadata": {
        "id": "c3iBdGRRzcK7",
        "colab": {
          "base_uri": "https://localhost:8080/"
        },
        "outputId": "2fbe0e99-47c4-41d3-ce38-18d39b786d20"
      },
      "outputs": [
        {
          "output_type": "stream",
          "name": "stdout",
          "text": [
            "Test data accuracy : 0.7657936648380818, F1-Score: 0.4675115670891169\n"
          ]
        },
        {
          "output_type": "stream",
          "name": "stderr",
          "text": [
            "/usr/local/lib/python3.10/dist-packages/sklearn/linear_model/_logistic.py:460: ConvergenceWarning: lbfgs failed to converge (status=1):\n",
            "STOP: TOTAL NO. of ITERATIONS REACHED LIMIT.\n",
            "\n",
            "Increase the number of iterations (max_iter) or scale the data as shown in:\n",
            "    https://scikit-learn.org/stable/modules/preprocessing.html\n",
            "Please also refer to the documentation for alternative solver options:\n",
            "    https://scikit-learn.org/stable/modules/linear_model.html#logistic-regression\n",
            "  n_iter_i = _check_optimize_result(\n"
          ]
        }
      ],
      "source": [
        "from sklearn.linear_model import LogisticRegression\n",
        "from sklearn.metrics import f1_score\n",
        "\n",
        "model = LogisticRegression()\n",
        "model.fit(X_train_smoteenn, y_train_smoteenn)\n",
        "print(f\"Test data accuracy : {model.score(X_test, y_test)}, F1-Score: {f1_score(model.predict(X_test), y_test)}\")"
      ]
    },
    {
      "cell_type": "code",
      "execution_count": 187,
      "metadata": {
        "id": "7XpkQAko6pu0",
        "colab": {
          "base_uri": "https://localhost:8080/"
        },
        "outputId": "76a0ac85-5a22-47d9-a531-edfa02becb25"
      },
      "outputs": [
        {
          "output_type": "stream",
          "name": "stdout",
          "text": [
            "Depth - 1, TrainScore: 0.6336902339026045, Cross-ValScore: 0.8821048341566998\n",
            "Depth - 2, TrainScore: 0.6774031796596172, Cross-ValScore: 0.8904822934907515\n",
            "Depth - 3, TrainScore: 0.6708255906556941, Cross-ValScore: 0.8968826644188287\n",
            "Depth - 4, TrainScore: 0.7786921511370675, Cross-ValScore: 0.8982689211160203\n",
            "Depth - 5, TrainScore: 0.7680441258885644, Cross-ValScore: 0.898652306252278\n",
            "Depth - 6, TrainScore: 0.7986018936377312, Cross-ValScore: 0.9000681832614357\n",
            "Depth - 7, TrainScore: 0.7964781877709937, Cross-ValScore: 0.897708423042428\n",
            "Depth - 8, TrainScore: 0.8397486948057694, Cross-ValScore: 0.8976200666522264\n",
            "Depth - 9, TrainScore: 0.8465622511282187, Cross-ValScore: 0.8962927374126723\n",
            "Depth - 10, TrainScore: 0.8599239005397752, Cross-ValScore: 0.8942281625228677\n"
          ]
        }
      ],
      "source": [
        "from sklearn.tree import DecisionTreeClassifier\n",
        "from sklearn.metrics import f1_score\n",
        "from sklearn.model_selection import cross_val_score\n",
        "\n",
        "for depth in [1,2,3,4,5,6,7,8,9,10]:\n",
        "  model = DecisionTreeClassifier(max_depth = depth)\n",
        "  model.fit(X_train_smoteenn, y_train_smoteenn)\n",
        "  train_score = model.score(X_train, y_train)\n",
        "  cross_val = np.mean(cross_val_score(model, X_train, y_train, cv = 10))\n",
        "  print(f\"Depth - {depth}, TrainScore: {train_score}, Cross-ValScore: {cross_val}\")"
      ]
    },
    {
      "cell_type": "code",
      "execution_count": 188,
      "metadata": {
        "id": "w4pneMlZ_oqL",
        "colab": {
          "base_uri": "https://localhost:8080/"
        },
        "outputId": "de94cf72-681f-493d-8c2c-59eafa83a7e9"
      },
      "outputs": [
        {
          "output_type": "stream",
          "name": "stdout",
          "text": [
            "Test data accuracy : 0.8019819500973279, F1-Score: 0.4954914337240757\n"
          ]
        }
      ],
      "source": [
        "model = DecisionTreeClassifier(max_depth = 6)\n",
        "model.fit(X_train_smoteenn, y_train_smoteenn)\n",
        "print(f\"Test data accuracy : {model.score(X_test, y_test)}, F1-Score: {f1_score(model.predict(X_test), y_test)}\")"
      ]
    },
    {
      "cell_type": "markdown",
      "metadata": {
        "id": "Xy9NbzkLKKX7"
      },
      "source": [
        "#RandomForestClassifier"
      ]
    },
    {
      "cell_type": "code",
      "execution_count": 189,
      "metadata": {
        "colab": {
          "base_uri": "https://localhost:8080/"
        },
        "id": "OyxTEBOhzcD6",
        "outputId": "18556a96-6120-4fcb-ef5d-ffa32acf7acb"
      },
      "outputs": [
        {
          "output_type": "stream",
          "name": "stdout",
          "text": [
            "N: 10, Cross-Val Score: 0.8874733569425924\n",
            "N: 20, Cross-Val Score: 0.8906290727928953\n",
            "N: 50, Cross-Val Score: 0.8893018740392972\n",
            "N: 100, Cross-Val Score: 0.889095384363781\n",
            "N: 200, Cross-Val Score: 0.8885939703309733\n",
            "N: 500, Cross-Val Score: 0.8888299498324995\n",
            "N: 1000, Cross-Val Score: 0.888977416360677\n"
          ]
        }
      ],
      "source": [
        "from sklearn.ensemble import RandomForestClassifier\n",
        "\n",
        "model = RandomForestClassifier(max_depth = 3, max_features = \"sqrt\")\n",
        "\n",
        "for n in [10, 20, 50, 100, 200, 500, 1000]:\n",
        "  model = RandomForestClassifier(n_estimators = n, max_depth = 3, max_features = \"sqrt\")\n",
        "  model.fit(X_train_smoteenn, y_train_smoteenn)\n",
        "  cross_score = np.mean(cross_val_score(model, X_train, y_train, cv = 10))\n",
        "  print(f\"N: {n}, Cross-Val Score: {cross_score}\")"
      ]
    },
    {
      "cell_type": "code",
      "execution_count": 190,
      "metadata": {
        "colab": {
          "base_uri": "https://localhost:8080/"
        },
        "id": "MnpSKnCxzb-j",
        "outputId": "15041010-ea0b-4b46-ed5b-09c694a76272"
      },
      "outputs": [
        {
          "output_type": "stream",
          "name": "stdout",
          "text": [
            "Test data accuracy : 0.723765705184923, F1-Score: 0.4317437204222789\n"
          ]
        }
      ],
      "source": [
        "model = RandomForestClassifier(n_estimators = 100, max_depth = 3, max_features = \"sqrt\")\n",
        "model.fit(X_train_smoteenn, y_train_smoteenn)\n",
        "print(f\"Test data accuracy : {model.score(X_test, y_test)}, F1-Score: {f1_score(model.predict(X_test), y_test)}\")"
      ]
    },
    {
      "cell_type": "markdown",
      "metadata": {
        "id": "H7QijXlMKI-l"
      },
      "source": [
        "## XGBoost"
      ]
    },
    {
      "cell_type": "code",
      "execution_count": 191,
      "metadata": {
        "colab": {
          "base_uri": "https://localhost:8080/"
        },
        "id": "Pc7w9y5ozb7T",
        "outputId": "f51d40b5-0188-43f7-b2b1-351d187f55d1"
      },
      "outputs": [
        {
          "output_type": "stream",
          "name": "stdout",
          "text": [
            "Lambda: 0.001, Cross-Val Score: 0.8821048341566998\n",
            "Lambda: 0.002, Cross-Val Score: 0.8821048341566998\n",
            "Lambda: 0.005, Cross-Val Score: 0.8821048341566998\n",
            "Lambda: 0.006, Cross-Val Score: 0.8821048341566998\n",
            "Lambda: 0.007, Cross-Val Score: 0.8831077318148248\n",
            "Lambda: 0.008, Cross-Val Score: 0.8891544075111195\n",
            "Lambda: 0.009, Cross-Val Score: 0.8914551445827886\n",
            "Lambda: 0.01, Cross-Val Score: 0.892664558013621\n",
            "Lambda: 0.011, Cross-Val Score: 0.8929890417894322\n",
            "Lambda: 0.012, Cross-Val Score: 0.893932933698346\n",
            "Lambda: 0.013, Cross-Val Score: 0.8951128573031685\n",
            "Lambda: 0.014, Cross-Val Score: 0.895997743462871\n",
            "Lambda: 0.015, Cross-Val Score: 0.8970596468702071\n",
            "Lambda: 0.016, Cross-Val Score: 0.8974725740268574\n",
            "Lambda: 0.017, Cross-Val Score: 0.8980330460032586\n",
            "Lambda: 0.018, Cross-Val Score: 0.8987409236143915\n",
            "Lambda: 0.019, Cross-Val Score: 0.8987114076911903\n",
            "Lambda: 0.02, Cross-Val Score: 0.8988294017914852\n",
            "Lambda: 0.05, Cross-Val Score: 0.902427917383252\n",
            "Lambda: 0.1, Cross-Val Score: 0.9037846059628603\n",
            "Lambda: 0.2, Cross-Val Score: 0.9024866012671058\n",
            "Lambda: 0.5, Cross-Val Score: 0.8995961807630645\n",
            "Lambda: 1, Cross-Val Score: 0.8909243973071177\n"
          ]
        }
      ],
      "source": [
        "from xgboost import XGBClassifier\n",
        "\n",
        "for lamb in [0.001, 0.002, 0.005, 0.006, 0.007, 0.008, 0.009, 0.01, 0.011, 0.012, 0.013, 0.014, 0.015, 0.016, 0.017, 0.018, 0.019, 0.02, 0.05, 0.1, 0.2, 0.5, 1]:\n",
        "  model = XGBClassifier(learning_rate = lamb)\n",
        "  model.fit(X_train_smoteenn, y_train_smoteenn)\n",
        "  cross_score = np.mean(cross_val_score(model, X_train, y_train, cv = 10))\n",
        "  print(f\"Lambda: {lamb}, Cross-Val Score: {cross_score}\")"
      ]
    },
    {
      "cell_type": "code",
      "execution_count": 192,
      "metadata": {
        "colab": {
          "base_uri": "https://localhost:8080/"
        },
        "id": "frHDSZ8Qzb37",
        "outputId": "94ef5a10-f16c-409e-f7fc-c25a6ea3dba1"
      },
      "outputs": [
        {
          "output_type": "stream",
          "name": "stdout",
          "text": [
            "Test data accuracy : 0.8770129180675986, F1-Score: 0.5959302325581395\n"
          ]
        }
      ],
      "source": [
        "model = XGBClassifier(learning_rate = 0.1)\n",
        "model.fit(X_train_smoteenn, y_train_smoteenn)\n",
        "print(f\"Test data accuracy : {model.score(X_test, y_test)}, F1-Score: {f1_score(model.predict(X_test), y_test)}\")"
      ]
    },
    {
      "cell_type": "code",
      "execution_count": 193,
      "metadata": {
        "colab": {
          "base_uri": "https://localhost:8080/",
          "height": 332
        },
        "id": "fQ8NvM4nobWo",
        "outputId": "25c44df8-f260-40a0-aecb-4515abd1ffdd"
      },
      "outputs": [
        {
          "output_type": "execute_result",
          "data": {
            "text/plain": [
              "          feature     score\n",
              "7       num_calls  0.234141\n",
              "4             day  0.183725\n",
              "6             dur  0.111229\n",
              "3       call_type  0.075725\n",
              "2  education_qual  0.072440\n",
              "8    prev_outcome  0.058896\n",
              "1         marital  0.037457\n",
              "5             mon  0.026024\n",
              "0             job  0.019761"
            ],
            "text/html": [
              "\n",
              "  <div id=\"df-3fc4ae80-ef83-45e9-bb1f-5560870eb550\" class=\"colab-df-container\">\n",
              "    <div>\n",
              "<style scoped>\n",
              "    .dataframe tbody tr th:only-of-type {\n",
              "        vertical-align: middle;\n",
              "    }\n",
              "\n",
              "    .dataframe tbody tr th {\n",
              "        vertical-align: top;\n",
              "    }\n",
              "\n",
              "    .dataframe thead th {\n",
              "        text-align: right;\n",
              "    }\n",
              "</style>\n",
              "<table border=\"1\" class=\"dataframe\">\n",
              "  <thead>\n",
              "    <tr style=\"text-align: right;\">\n",
              "      <th></th>\n",
              "      <th>feature</th>\n",
              "      <th>score</th>\n",
              "    </tr>\n",
              "  </thead>\n",
              "  <tbody>\n",
              "    <tr>\n",
              "      <th>7</th>\n",
              "      <td>num_calls</td>\n",
              "      <td>0.234141</td>\n",
              "    </tr>\n",
              "    <tr>\n",
              "      <th>4</th>\n",
              "      <td>day</td>\n",
              "      <td>0.183725</td>\n",
              "    </tr>\n",
              "    <tr>\n",
              "      <th>6</th>\n",
              "      <td>dur</td>\n",
              "      <td>0.111229</td>\n",
              "    </tr>\n",
              "    <tr>\n",
              "      <th>3</th>\n",
              "      <td>call_type</td>\n",
              "      <td>0.075725</td>\n",
              "    </tr>\n",
              "    <tr>\n",
              "      <th>2</th>\n",
              "      <td>education_qual</td>\n",
              "      <td>0.072440</td>\n",
              "    </tr>\n",
              "    <tr>\n",
              "      <th>8</th>\n",
              "      <td>prev_outcome</td>\n",
              "      <td>0.058896</td>\n",
              "    </tr>\n",
              "    <tr>\n",
              "      <th>1</th>\n",
              "      <td>marital</td>\n",
              "      <td>0.037457</td>\n",
              "    </tr>\n",
              "    <tr>\n",
              "      <th>5</th>\n",
              "      <td>mon</td>\n",
              "      <td>0.026024</td>\n",
              "    </tr>\n",
              "    <tr>\n",
              "      <th>0</th>\n",
              "      <td>job</td>\n",
              "      <td>0.019761</td>\n",
              "    </tr>\n",
              "  </tbody>\n",
              "</table>\n",
              "</div>\n",
              "    <div class=\"colab-df-buttons\">\n",
              "\n",
              "  <div class=\"colab-df-container\">\n",
              "    <button class=\"colab-df-convert\" onclick=\"convertToInteractive('df-3fc4ae80-ef83-45e9-bb1f-5560870eb550')\"\n",
              "            title=\"Convert this dataframe to an interactive table.\"\n",
              "            style=\"display:none;\">\n",
              "\n",
              "  <svg xmlns=\"http://www.w3.org/2000/svg\" height=\"24px\" viewBox=\"0 -960 960 960\">\n",
              "    <path d=\"M120-120v-720h720v720H120Zm60-500h600v-160H180v160Zm220 220h160v-160H400v160Zm0 220h160v-160H400v160ZM180-400h160v-160H180v160Zm440 0h160v-160H620v160ZM180-180h160v-160H180v160Zm440 0h160v-160H620v160Z\"/>\n",
              "  </svg>\n",
              "    </button>\n",
              "\n",
              "  <style>\n",
              "    .colab-df-container {\n",
              "      display:flex;\n",
              "      gap: 12px;\n",
              "    }\n",
              "\n",
              "    .colab-df-convert {\n",
              "      background-color: #E8F0FE;\n",
              "      border: none;\n",
              "      border-radius: 50%;\n",
              "      cursor: pointer;\n",
              "      display: none;\n",
              "      fill: #1967D2;\n",
              "      height: 32px;\n",
              "      padding: 0 0 0 0;\n",
              "      width: 32px;\n",
              "    }\n",
              "\n",
              "    .colab-df-convert:hover {\n",
              "      background-color: #E2EBFA;\n",
              "      box-shadow: 0px 1px 2px rgba(60, 64, 67, 0.3), 0px 1px 3px 1px rgba(60, 64, 67, 0.15);\n",
              "      fill: #174EA6;\n",
              "    }\n",
              "\n",
              "    .colab-df-buttons div {\n",
              "      margin-bottom: 4px;\n",
              "    }\n",
              "\n",
              "    [theme=dark] .colab-df-convert {\n",
              "      background-color: #3B4455;\n",
              "      fill: #D2E3FC;\n",
              "    }\n",
              "\n",
              "    [theme=dark] .colab-df-convert:hover {\n",
              "      background-color: #434B5C;\n",
              "      box-shadow: 0px 1px 3px 1px rgba(0, 0, 0, 0.15);\n",
              "      filter: drop-shadow(0px 1px 2px rgba(0, 0, 0, 0.3));\n",
              "      fill: #FFFFFF;\n",
              "    }\n",
              "  </style>\n",
              "\n",
              "    <script>\n",
              "      const buttonEl =\n",
              "        document.querySelector('#df-3fc4ae80-ef83-45e9-bb1f-5560870eb550 button.colab-df-convert');\n",
              "      buttonEl.style.display =\n",
              "        google.colab.kernel.accessAllowed ? 'block' : 'none';\n",
              "\n",
              "      async function convertToInteractive(key) {\n",
              "        const element = document.querySelector('#df-3fc4ae80-ef83-45e9-bb1f-5560870eb550');\n",
              "        const dataTable =\n",
              "          await google.colab.kernel.invokeFunction('convertToInteractive',\n",
              "                                                    [key], {});\n",
              "        if (!dataTable) return;\n",
              "\n",
              "        const docLinkHtml = 'Like what you see? Visit the ' +\n",
              "          '<a target=\"_blank\" href=https://colab.research.google.com/notebooks/data_table.ipynb>data table notebook</a>'\n",
              "          + ' to learn more about interactive tables.';\n",
              "        element.innerHTML = '';\n",
              "        dataTable['output_type'] = 'display_data';\n",
              "        await google.colab.output.renderOutput(dataTable, element);\n",
              "        const docLink = document.createElement('div');\n",
              "        docLink.innerHTML = docLinkHtml;\n",
              "        element.appendChild(docLink);\n",
              "      }\n",
              "    </script>\n",
              "  </div>\n",
              "\n",
              "\n",
              "<div id=\"df-580d6f89-fd04-4b8e-aed1-f32df72d62b1\">\n",
              "  <button class=\"colab-df-quickchart\" onclick=\"quickchart('df-580d6f89-fd04-4b8e-aed1-f32df72d62b1')\"\n",
              "            title=\"Suggest charts\"\n",
              "            style=\"display:none;\">\n",
              "\n",
              "<svg xmlns=\"http://www.w3.org/2000/svg\" height=\"24px\"viewBox=\"0 0 24 24\"\n",
              "     width=\"24px\">\n",
              "    <g>\n",
              "        <path d=\"M19 3H5c-1.1 0-2 .9-2 2v14c0 1.1.9 2 2 2h14c1.1 0 2-.9 2-2V5c0-1.1-.9-2-2-2zM9 17H7v-7h2v7zm4 0h-2V7h2v10zm4 0h-2v-4h2v4z\"/>\n",
              "    </g>\n",
              "</svg>\n",
              "  </button>\n",
              "\n",
              "<style>\n",
              "  .colab-df-quickchart {\n",
              "      --bg-color: #E8F0FE;\n",
              "      --fill-color: #1967D2;\n",
              "      --hover-bg-color: #E2EBFA;\n",
              "      --hover-fill-color: #174EA6;\n",
              "      --disabled-fill-color: #AAA;\n",
              "      --disabled-bg-color: #DDD;\n",
              "  }\n",
              "\n",
              "  [theme=dark] .colab-df-quickchart {\n",
              "      --bg-color: #3B4455;\n",
              "      --fill-color: #D2E3FC;\n",
              "      --hover-bg-color: #434B5C;\n",
              "      --hover-fill-color: #FFFFFF;\n",
              "      --disabled-bg-color: #3B4455;\n",
              "      --disabled-fill-color: #666;\n",
              "  }\n",
              "\n",
              "  .colab-df-quickchart {\n",
              "    background-color: var(--bg-color);\n",
              "    border: none;\n",
              "    border-radius: 50%;\n",
              "    cursor: pointer;\n",
              "    display: none;\n",
              "    fill: var(--fill-color);\n",
              "    height: 32px;\n",
              "    padding: 0;\n",
              "    width: 32px;\n",
              "  }\n",
              "\n",
              "  .colab-df-quickchart:hover {\n",
              "    background-color: var(--hover-bg-color);\n",
              "    box-shadow: 0 1px 2px rgba(60, 64, 67, 0.3), 0 1px 3px 1px rgba(60, 64, 67, 0.15);\n",
              "    fill: var(--button-hover-fill-color);\n",
              "  }\n",
              "\n",
              "  .colab-df-quickchart-complete:disabled,\n",
              "  .colab-df-quickchart-complete:disabled:hover {\n",
              "    background-color: var(--disabled-bg-color);\n",
              "    fill: var(--disabled-fill-color);\n",
              "    box-shadow: none;\n",
              "  }\n",
              "\n",
              "  .colab-df-spinner {\n",
              "    border: 2px solid var(--fill-color);\n",
              "    border-color: transparent;\n",
              "    border-bottom-color: var(--fill-color);\n",
              "    animation:\n",
              "      spin 1s steps(1) infinite;\n",
              "  }\n",
              "\n",
              "  @keyframes spin {\n",
              "    0% {\n",
              "      border-color: transparent;\n",
              "      border-bottom-color: var(--fill-color);\n",
              "      border-left-color: var(--fill-color);\n",
              "    }\n",
              "    20% {\n",
              "      border-color: transparent;\n",
              "      border-left-color: var(--fill-color);\n",
              "      border-top-color: var(--fill-color);\n",
              "    }\n",
              "    30% {\n",
              "      border-color: transparent;\n",
              "      border-left-color: var(--fill-color);\n",
              "      border-top-color: var(--fill-color);\n",
              "      border-right-color: var(--fill-color);\n",
              "    }\n",
              "    40% {\n",
              "      border-color: transparent;\n",
              "      border-right-color: var(--fill-color);\n",
              "      border-top-color: var(--fill-color);\n",
              "    }\n",
              "    60% {\n",
              "      border-color: transparent;\n",
              "      border-right-color: var(--fill-color);\n",
              "    }\n",
              "    80% {\n",
              "      border-color: transparent;\n",
              "      border-right-color: var(--fill-color);\n",
              "      border-bottom-color: var(--fill-color);\n",
              "    }\n",
              "    90% {\n",
              "      border-color: transparent;\n",
              "      border-bottom-color: var(--fill-color);\n",
              "    }\n",
              "  }\n",
              "</style>\n",
              "\n",
              "  <script>\n",
              "    async function quickchart(key) {\n",
              "      const quickchartButtonEl =\n",
              "        document.querySelector('#' + key + ' button');\n",
              "      quickchartButtonEl.disabled = true;  // To prevent multiple clicks.\n",
              "      quickchartButtonEl.classList.add('colab-df-spinner');\n",
              "      try {\n",
              "        const charts = await google.colab.kernel.invokeFunction(\n",
              "            'suggestCharts', [key], {});\n",
              "      } catch (error) {\n",
              "        console.error('Error during call to suggestCharts:', error);\n",
              "      }\n",
              "      quickchartButtonEl.classList.remove('colab-df-spinner');\n",
              "      quickchartButtonEl.classList.add('colab-df-quickchart-complete');\n",
              "    }\n",
              "    (() => {\n",
              "      let quickchartButtonEl =\n",
              "        document.querySelector('#df-580d6f89-fd04-4b8e-aed1-f32df72d62b1 button');\n",
              "      quickchartButtonEl.style.display =\n",
              "        google.colab.kernel.accessAllowed ? 'block' : 'none';\n",
              "    })();\n",
              "  </script>\n",
              "</div>\n",
              "\n",
              "    </div>\n",
              "  </div>\n"
            ],
            "application/vnd.google.colaboratory.intrinsic+json": {
              "type": "dataframe",
              "summary": "{\n  \"name\": \"feature_importances\",\n  \"rows\": 9,\n  \"fields\": [\n    {\n      \"column\": \"feature\",\n      \"properties\": {\n        \"dtype\": \"string\",\n        \"num_unique_values\": 9,\n        \"samples\": [\n          \"mon\",\n          \"day\",\n          \"prev_outcome\"\n        ],\n        \"semantic_type\": \"\",\n        \"description\": \"\"\n      }\n    },\n    {\n      \"column\": \"score\",\n      \"properties\": {\n        \"dtype\": \"float32\",\n        \"num_unique_values\": 9,\n        \"samples\": [\n          0.026023849844932556,\n          0.18372537195682526,\n          0.05889570713043213\n        ],\n        \"semantic_type\": \"\",\n        \"description\": \"\"\n      }\n    }\n  ]\n}"
            }
          },
          "metadata": {},
          "execution_count": 193
        }
      ],
      "source": [
        "feature_importances = pd.DataFrame(zip(file.columns[1:10], model.feature_importances_), columns = ['feature', 'score'])\n",
        "feature_importances.sort_values(by = 'score', ascending = False)"
      ]
    },
    {
      "cell_type": "code",
      "execution_count": 194,
      "metadata": {
        "id": "sNmmGmpvo0-J"
      },
      "outputs": [],
      "source": [
        "important_features = ['num_calls', 'dur', 'job']"
      ]
    },
    {
      "cell_type": "code",
      "execution_count": 195,
      "metadata": {
        "colab": {
          "base_uri": "https://localhost:8080/"
        },
        "id": "Qy7wtGHJo06C",
        "outputId": "9104df32-4674-48cb-fff8-9e64815df6ad"
      },
      "outputs": [
        {
          "output_type": "stream",
          "name": "stdout",
          "text": [
            "Lambda: 0.017, Cross-Val Score: 0.9011023951051756\n",
            "Lambda: 0.018, Cross-Val Score: 0.9018270236672663\n",
            "Lambda: 0.019, Cross-Val Score: 0.9021290745823102\n",
            "Lambda: 0.02, Cross-Val Score: 0.9026123031557814\n",
            "Lambda: 0.05, Cross-Val Score: 0.9101012380777295\n",
            "Lambda: 0.1, Cross-Val Score: 0.9198552128974272\n",
            "Lambda: 0.2, Cross-Val Score: 0.9403290907777764\n",
            "Lambda: 0.3, Cross-Val Score: 0.9515326145318562\n",
            "Lambda: 0.4, Cross-Val Score: 0.9567570658192498\n",
            "Lambda: 0.5, Cross-Val Score: 0.9603505078227019\n",
            "Lambda: 0.6, Cross-Val Score: 0.9621924867627596\n",
            "Lambda: 0.7, Cross-Val Score: 0.9645480060608979\n",
            "Lambda: 0.8, Cross-Val Score: 0.965363478786128\n",
            "Lambda: 1, Cross-Val Score: 0.9677792021763205\n"
          ]
        }
      ],
      "source": [
        "important_features = ['num_calls', 'dur', 'job']\n",
        "target_column = 'y'\n",
        "\n",
        "X = file[important_features]\n",
        "y = file[target_column]\n",
        "\n",
        "X_train, X_test, y_train, y_test = train_test_split(X, y, test_size=0.2, random_state=42)\n",
        "smoteenn = SMOTEENN()\n",
        "X_train_smoteenn, y_train_smoteenn = smoteenn.fit_resample(X_train, y_train)\n",
        "\n",
        "for lamb in [0.017, 0.018, 0.019, 0.02, 0.05, 0.1, 0.2, 0.3,0.4,0.5,0.6,0.7,0.8 ,1]:\n",
        "    model = XGBClassifier(learning_rate=lamb)\n",
        "    cross_score = np.mean(cross_val_score(model, X_train_smoteenn[important_features], y_train_smoteenn, cv=10))\n",
        "    print(f\"Lambda: {lamb}, Cross-Val Score: {cross_score}\")\n",
        "\n",
        "\n"
      ]
    },
    {
      "cell_type": "code",
      "source": [
        "best_learning_rate = 1\n",
        "model = XGBClassifier(learning_rate=best_learning_rate)\n",
        "model.fit(X_train_smoteenn[important_features], y_train_smoteenn)\n",
        "\n",
        "test_accuracy = model.score(X_test[important_features], y_test)\n",
        "f1 = f1_score(y_test, model.predict(X_test[important_features]))\n",
        "print(f\"Test data accuracy: {test_accuracy}, F1-Score: {f1}\")\n"
      ],
      "metadata": {
        "colab": {
          "base_uri": "https://localhost:8080/"
        },
        "id": "KmjIU0UPNf83",
        "outputId": "2770b904-75fc-4042-fb28-019c13fabff7"
      },
      "execution_count": 196,
      "outputs": [
        {
          "output_type": "stream",
          "name": "stdout",
          "text": [
            "Test data accuracy: 0.7996902997456034, F1-Score: 0.3280148423005566\n"
          ]
        }
      ]
    }
  ],
  "metadata": {
    "colab": {
      "provenance": []
    },
    "kernelspec": {
      "display_name": "Python 3",
      "name": "python3"
    },
    "language_info": {
      "name": "python"
    }
  },
  "nbformat": 4,
  "nbformat_minor": 0
}